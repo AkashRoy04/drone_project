{
  "nbformat": 4,
  "nbformat_minor": 0,
  "metadata": {
    "colab": {
      "provenance": []
    },
    "kernelspec": {
      "name": "python3",
      "display_name": "Python 3"
    },
    "language_info": {
      "name": "python"
    },
    "gpuClass": "standard",
    "accelerator": "GPU"
  },
  "cells": [
    {
      "cell_type": "code",
      "source": [
        "from google.colab import drive\n",
        "drive.mount('/content/drive')"
      ],
      "metadata": {
        "colab": {
          "base_uri": "https://localhost:8080/"
        },
        "id": "bJL6O1vURbhz",
        "outputId": "6b4557db-cae2-4e0c-be67-a41bccab2676"
      },
      "execution_count": null,
      "outputs": [
        {
          "output_type": "stream",
          "name": "stdout",
          "text": [
            "Mounted at /content/drive\n"
          ]
        }
      ]
    },
    {
      "cell_type": "code",
      "execution_count": null,
      "metadata": {
        "id": "84ssmvcJQ-T9"
      },
      "outputs": [],
      "source": [
        "import numpy as np\n",
        "import pandas as pd\n",
        "import torch\n",
        "from torch.utils.data import Dataset, DataLoader\n",
        "from torchvision import transforms, utils\n",
        "import matplotlib.pyplot as plt\n",
        "import os\n",
        "import cv2\n",
        "import torch.nn as nn\n",
        "import torch.nn.functional as F\n",
        "import torch.optim as optim\n",
        "from google.colab.patches import cv2_imshow"
      ]
    },
    {
      "cell_type": "markdown",
      "source": [
        "# **dataset creation**"
      ],
      "metadata": {
        "id": "u35d73tLo7tp"
      }
    },
    {
      "cell_type": "code",
      "source": [
        "data_path= '/content/drive/MyDrive/drone_project_data/processed_data/prototype_data'"
      ],
      "metadata": {
        "id": "Buf-whWSpAB3"
      },
      "execution_count": null,
      "outputs": []
    },
    {
      "cell_type": "code",
      "source": [
        "data_df= pd.DataFrame([])\n",
        "\n",
        "img_path_list= []\n",
        "label_list= []\n",
        "\n",
        "for sub_dir in iter(os.listdir(data_path)):\n",
        "  sub_data_path= os.path.join(data_path, sub_dir)\n",
        "  for img_path in iter(os.listdir(sub_data_path)):\n",
        "    # print(img_path)\n",
        "    img_path_list.append(os.path.join(sub_data_path, img_path))\n",
        "    if sub_dir[9:]=='healthy':\n",
        "      sub_dir_lab= 0.0\n",
        "      label_list.append(sub_dir_lab)\n",
        "    elif sub_dir[9:]=='Early_blight':\n",
        "      sub_dir_lab= 1.0\n",
        "      label_list.append(sub_dir_lab)\n",
        "    elif sub_dir[9:]=='Late_blight':\n",
        "      sub_dir_lab= 2.0\n",
        "      label_list.append(sub_dir_lab)\n",
        "    \n",
        "data_df['img_path']= img_path_list\n",
        "data_df['label']= label_list"
      ],
      "metadata": {
        "id": "dLfDsPQbpWNZ"
      },
      "execution_count": null,
      "outputs": []
    },
    {
      "cell_type": "code",
      "source": [
        "# data_df.to_excel('/content/drive/MyDrive/drone_project_data/processed_data/prototype_data/img_path_list.xlsx', sheet_name= 'path_list_sheet', index= False)"
      ],
      "metadata": {
        "id": "gpNtGDlNqtGR"
      },
      "execution_count": null,
      "outputs": []
    },
    {
      "cell_type": "code",
      "source": [
        "data_path= '/content/drive/MyDrive/drone_project_data/processed_data/prototype_data/'\n",
        "labels= []\n",
        "data= pd.DataFrame([])\n",
        "img_list= []\n",
        "label_list= []\n",
        "\n",
        "for item in iter(os.listdir(data_path)):\n",
        "  print(item[9:])\n",
        "  labels.append(item[9:])\n",
        "  for img in iter(os.listdir(data_path+item)):\n",
        "    # print(img)\n",
        "    img_list.append(img)\n",
        "    label_list.append(item[9:])\n",
        "\n",
        "data['img_name']= img_list\n",
        "data['labels']= label_list"
      ],
      "metadata": {
        "id": "xyA9aDALRWG_"
      },
      "execution_count": null,
      "outputs": []
    },
    {
      "cell_type": "code",
      "source": [
        "set(data['labels'])"
      ],
      "metadata": {
        "id": "irbcGg9sxxwC"
      },
      "execution_count": null,
      "outputs": []
    },
    {
      "cell_type": "markdown",
      "source": [
        "# **PROTOTYPE PIPELINE**"
      ],
      "metadata": {
        "id": "fN-w2blRsfiZ"
      }
    },
    {
      "cell_type": "markdown",
      "source": [
        "*default classifier architecture*"
      ],
      "metadata": {
        "id": "OGAIrpMDkynR"
      }
    },
    {
      "cell_type": "code",
      "source": [
        "class DroneDataset(Dataset):\n",
        "  def __init__(self, csv_file, transform= None):\n",
        "    self.data_file= csv_file\n",
        "    self.transform= transform\n",
        "  \n",
        "  def __len__(self):\n",
        "    return len(self.data_file)\n",
        "  \n",
        "  def __getitem__(self, idx):\n",
        "    if torch.is_tensor(idx):\n",
        "      idx= idx.tolist()\n",
        "\n",
        "    image= cv2.imread(self.data_file.iloc[idx,0])\n",
        "    # print(image)\n",
        "    label= self.data_file.iloc[idx,1]\n",
        "    # print(label)\n",
        "    sample= image\n",
        "    if self.transform:\n",
        "      sample= self.transform(sample)\n",
        "    \n",
        "    return sample, label"
      ],
      "metadata": {
        "id": "j6N_WqX2yXJ_"
      },
      "execution_count": null,
      "outputs": []
    },
    {
      "cell_type": "code",
      "source": [
        "data= pd.read_excel('/content/drive/MyDrive/drone_project_data/processed_data/prototype_data/img_path_list.xlsx')\n",
        "\n",
        "transform = transforms.Compose(\n",
        "    [transforms.ToTensor(),\n",
        "    transforms.Normalize((0.5, 0.5, 0.5), (0.5, 0.5, 0.5))])\n",
        "\n",
        "\n",
        "img_dataset_train= DroneDataset(data[:2000], transform)\n",
        "img_dataset_test= DroneDataset(data[2000:], transform)\n",
        "\n",
        "batch_size= 128\n",
        "\n",
        "img_data_loader_train= DataLoader(img_dataset_train, batch_size= batch_size, shuffle= True)\n",
        "img_data_loader_test= DataLoader(img_dataset_test, batch_size= batch_size, shuffle= True)"
      ],
      "metadata": {
        "id": "QJHsdpjIsvEX"
      },
      "execution_count": null,
      "outputs": []
    },
    {
      "cell_type": "code",
      "source": [
        "data"
      ],
      "metadata": {
        "id": "m2AvUkXk6spj",
        "colab": {
          "base_uri": "https://localhost:8080/",
          "height": 424
        },
        "outputId": "d083384e-2517-43d6-f43e-92a02143a331"
      },
      "execution_count": null,
      "outputs": [
        {
          "output_type": "execute_result",
          "data": {
            "text/plain": [
              "                                               img_path  label\n",
              "0     /content/drive/MyDrive/drone_project_data/proc...    0.0\n",
              "1     /content/drive/MyDrive/drone_project_data/proc...    0.0\n",
              "2     /content/drive/MyDrive/drone_project_data/proc...    0.0\n",
              "3     /content/drive/MyDrive/drone_project_data/proc...    0.0\n",
              "4     /content/drive/MyDrive/drone_project_data/proc...    0.0\n",
              "...                                                 ...    ...\n",
              "2147  /content/drive/MyDrive/drone_project_data/proc...    2.0\n",
              "2148  /content/drive/MyDrive/drone_project_data/proc...    2.0\n",
              "2149  /content/drive/MyDrive/drone_project_data/proc...    2.0\n",
              "2150  /content/drive/MyDrive/drone_project_data/proc...    2.0\n",
              "2151  /content/drive/MyDrive/drone_project_data/proc...    2.0\n",
              "\n",
              "[2152 rows x 2 columns]"
            ],
            "text/html": [
              "\n",
              "  <div id=\"df-d76c97ee-0689-4d18-9855-cb400bd3978c\">\n",
              "    <div class=\"colab-df-container\">\n",
              "      <div>\n",
              "<style scoped>\n",
              "    .dataframe tbody tr th:only-of-type {\n",
              "        vertical-align: middle;\n",
              "    }\n",
              "\n",
              "    .dataframe tbody tr th {\n",
              "        vertical-align: top;\n",
              "    }\n",
              "\n",
              "    .dataframe thead th {\n",
              "        text-align: right;\n",
              "    }\n",
              "</style>\n",
              "<table border=\"1\" class=\"dataframe\">\n",
              "  <thead>\n",
              "    <tr style=\"text-align: right;\">\n",
              "      <th></th>\n",
              "      <th>img_path</th>\n",
              "      <th>label</th>\n",
              "    </tr>\n",
              "  </thead>\n",
              "  <tbody>\n",
              "    <tr>\n",
              "      <th>0</th>\n",
              "      <td>/content/drive/MyDrive/drone_project_data/proc...</td>\n",
              "      <td>0.0</td>\n",
              "    </tr>\n",
              "    <tr>\n",
              "      <th>1</th>\n",
              "      <td>/content/drive/MyDrive/drone_project_data/proc...</td>\n",
              "      <td>0.0</td>\n",
              "    </tr>\n",
              "    <tr>\n",
              "      <th>2</th>\n",
              "      <td>/content/drive/MyDrive/drone_project_data/proc...</td>\n",
              "      <td>0.0</td>\n",
              "    </tr>\n",
              "    <tr>\n",
              "      <th>3</th>\n",
              "      <td>/content/drive/MyDrive/drone_project_data/proc...</td>\n",
              "      <td>0.0</td>\n",
              "    </tr>\n",
              "    <tr>\n",
              "      <th>4</th>\n",
              "      <td>/content/drive/MyDrive/drone_project_data/proc...</td>\n",
              "      <td>0.0</td>\n",
              "    </tr>\n",
              "    <tr>\n",
              "      <th>...</th>\n",
              "      <td>...</td>\n",
              "      <td>...</td>\n",
              "    </tr>\n",
              "    <tr>\n",
              "      <th>2147</th>\n",
              "      <td>/content/drive/MyDrive/drone_project_data/proc...</td>\n",
              "      <td>2.0</td>\n",
              "    </tr>\n",
              "    <tr>\n",
              "      <th>2148</th>\n",
              "      <td>/content/drive/MyDrive/drone_project_data/proc...</td>\n",
              "      <td>2.0</td>\n",
              "    </tr>\n",
              "    <tr>\n",
              "      <th>2149</th>\n",
              "      <td>/content/drive/MyDrive/drone_project_data/proc...</td>\n",
              "      <td>2.0</td>\n",
              "    </tr>\n",
              "    <tr>\n",
              "      <th>2150</th>\n",
              "      <td>/content/drive/MyDrive/drone_project_data/proc...</td>\n",
              "      <td>2.0</td>\n",
              "    </tr>\n",
              "    <tr>\n",
              "      <th>2151</th>\n",
              "      <td>/content/drive/MyDrive/drone_project_data/proc...</td>\n",
              "      <td>2.0</td>\n",
              "    </tr>\n",
              "  </tbody>\n",
              "</table>\n",
              "<p>2152 rows × 2 columns</p>\n",
              "</div>\n",
              "      <button class=\"colab-df-convert\" onclick=\"convertToInteractive('df-d76c97ee-0689-4d18-9855-cb400bd3978c')\"\n",
              "              title=\"Convert this dataframe to an interactive table.\"\n",
              "              style=\"display:none;\">\n",
              "        \n",
              "  <svg xmlns=\"http://www.w3.org/2000/svg\" height=\"24px\"viewBox=\"0 0 24 24\"\n",
              "       width=\"24px\">\n",
              "    <path d=\"M0 0h24v24H0V0z\" fill=\"none\"/>\n",
              "    <path d=\"M18.56 5.44l.94 2.06.94-2.06 2.06-.94-2.06-.94-.94-2.06-.94 2.06-2.06.94zm-11 1L8.5 8.5l.94-2.06 2.06-.94-2.06-.94L8.5 2.5l-.94 2.06-2.06.94zm10 10l.94 2.06.94-2.06 2.06-.94-2.06-.94-.94-2.06-.94 2.06-2.06.94z\"/><path d=\"M17.41 7.96l-1.37-1.37c-.4-.4-.92-.59-1.43-.59-.52 0-1.04.2-1.43.59L10.3 9.45l-7.72 7.72c-.78.78-.78 2.05 0 2.83L4 21.41c.39.39.9.59 1.41.59.51 0 1.02-.2 1.41-.59l7.78-7.78 2.81-2.81c.8-.78.8-2.07 0-2.86zM5.41 20L4 18.59l7.72-7.72 1.47 1.35L5.41 20z\"/>\n",
              "  </svg>\n",
              "      </button>\n",
              "      \n",
              "  <style>\n",
              "    .colab-df-container {\n",
              "      display:flex;\n",
              "      flex-wrap:wrap;\n",
              "      gap: 12px;\n",
              "    }\n",
              "\n",
              "    .colab-df-convert {\n",
              "      background-color: #E8F0FE;\n",
              "      border: none;\n",
              "      border-radius: 50%;\n",
              "      cursor: pointer;\n",
              "      display: none;\n",
              "      fill: #1967D2;\n",
              "      height: 32px;\n",
              "      padding: 0 0 0 0;\n",
              "      width: 32px;\n",
              "    }\n",
              "\n",
              "    .colab-df-convert:hover {\n",
              "      background-color: #E2EBFA;\n",
              "      box-shadow: 0px 1px 2px rgba(60, 64, 67, 0.3), 0px 1px 3px 1px rgba(60, 64, 67, 0.15);\n",
              "      fill: #174EA6;\n",
              "    }\n",
              "\n",
              "    [theme=dark] .colab-df-convert {\n",
              "      background-color: #3B4455;\n",
              "      fill: #D2E3FC;\n",
              "    }\n",
              "\n",
              "    [theme=dark] .colab-df-convert:hover {\n",
              "      background-color: #434B5C;\n",
              "      box-shadow: 0px 1px 3px 1px rgba(0, 0, 0, 0.15);\n",
              "      filter: drop-shadow(0px 1px 2px rgba(0, 0, 0, 0.3));\n",
              "      fill: #FFFFFF;\n",
              "    }\n",
              "  </style>\n",
              "\n",
              "      <script>\n",
              "        const buttonEl =\n",
              "          document.querySelector('#df-d76c97ee-0689-4d18-9855-cb400bd3978c button.colab-df-convert');\n",
              "        buttonEl.style.display =\n",
              "          google.colab.kernel.accessAllowed ? 'block' : 'none';\n",
              "\n",
              "        async function convertToInteractive(key) {\n",
              "          const element = document.querySelector('#df-d76c97ee-0689-4d18-9855-cb400bd3978c');\n",
              "          const dataTable =\n",
              "            await google.colab.kernel.invokeFunction('convertToInteractive',\n",
              "                                                     [key], {});\n",
              "          if (!dataTable) return;\n",
              "\n",
              "          const docLinkHtml = 'Like what you see? Visit the ' +\n",
              "            '<a target=\"_blank\" href=https://colab.research.google.com/notebooks/data_table.ipynb>data table notebook</a>'\n",
              "            + ' to learn more about interactive tables.';\n",
              "          element.innerHTML = '';\n",
              "          dataTable['output_type'] = 'display_data';\n",
              "          await google.colab.output.renderOutput(dataTable, element);\n",
              "          const docLink = document.createElement('div');\n",
              "          docLink.innerHTML = docLinkHtml;\n",
              "          element.appendChild(docLink);\n",
              "        }\n",
              "      </script>\n",
              "    </div>\n",
              "  </div>\n",
              "  "
            ]
          },
          "metadata": {},
          "execution_count": 39
        }
      ]
    },
    {
      "cell_type": "code",
      "source": [
        "class DroneNet(nn.Module):\n",
        "  def __init__(self):\n",
        "    super().__init__()\n",
        "    self.conv1= nn.Conv2d(3, 6, 5)\n",
        "    self.pool= nn.MaxPool2d(2,2)\n",
        "    self.conv2= nn.Conv2d(6, 16, 5)\n",
        "    self.fc1= nn.Linear(16*61*61, 120)\n",
        "    self.fc2= nn.Linear(120, 84)\n",
        "    self.fc3= nn.Linear(84, 10)\n",
        "    self.fc4= nn.Linear(10, 3)\n",
        "\n",
        "  def forward(self, x):\n",
        "    x= self.pool(F.relu(self.conv1(x)))\n",
        "    # print(x.shape)\n",
        "    x= self.pool(F.relu(self.conv2(x)))\n",
        "    # print(x.shape)\n",
        "    x= torch.flatten(x, 1)\n",
        "    # print(x.shape)\n",
        "    x= F.relu(self.fc1(x))\n",
        "    x= F.relu(self.fc2(x))\n",
        "    x= F.relu(self.fc3(x))\n",
        "    x= self.fc4(x)\n",
        "    return x\n",
        "\n",
        "net= DroneNet()"
      ],
      "metadata": {
        "id": "0Q8uZ9Db8VLF"
      },
      "execution_count": null,
      "outputs": []
    },
    {
      "cell_type": "code",
      "source": [
        "criterion= nn.CrossEntropyLoss()\n",
        "optimizer= optim.Adam(net.parameters(), lr=0.001)"
      ],
      "metadata": {
        "id": "GKmvEm6k9M_J"
      },
      "execution_count": null,
      "outputs": []
    },
    {
      "cell_type": "code",
      "source": [
        "print(\"Training Classifier Model...\")\n",
        "\n",
        "for epoch in range(2):\n",
        "  running_loss= 0.0\n",
        "  for i, data_1 in enumerate(img_data_loader_train, 0):\n",
        "    inputs, labels= data_1\n",
        "    # print(labels)\n",
        "    optimizer.zero_grad()\n",
        "\n",
        "    outputs= net(inputs)\n",
        "    # import pdb; pdb.set_trace();\n",
        "    loss= criterion(outputs, labels)\n",
        "    loss.backward()\n",
        "    optimizer\n",
        "    \n",
        "    running_loss+= loss.item()\n",
        "    # print(i, running_loss)\n",
        "\n",
        "    if i%2 == 1:\n",
        "      print(f'[{epoch + 1}, {i + 1:5d}] loss: {running_loss / 200:.3f}')\n",
        "      running_loss = 0.0\n",
        "\n",
        "print('Finished Training')"
      ],
      "metadata": {
        "id": "4JDSIGf4oGfz"
      },
      "execution_count": null,
      "outputs": []
    },
    {
      "cell_type": "code",
      "source": [
        "# net(torch.tensor(cv2.imread(data['img_path'][0])))\n",
        "dataiter = iter(img_data_loader_test)\n",
        "images, labels = dataiter.next()\n",
        "outputs= net(images)\n",
        "outputs"
      ],
      "metadata": {
        "id": "C19c-L0NIEMe",
        "colab": {
          "base_uri": "https://localhost:8080/"
        },
        "outputId": "1b94f8e7-6d19-4324-c983-d4db69c3f086"
      },
      "execution_count": null,
      "outputs": [
        {
          "output_type": "execute_result",
          "data": {
            "text/plain": [
              "tensor([[-0.2535, -0.1889,  0.0187],\n",
              "        [-0.2578, -0.1913,  0.0226],\n",
              "        [-0.2545, -0.1897,  0.0200],\n",
              "        [-0.2571, -0.1912,  0.0219],\n",
              "        [-0.2574, -0.1909,  0.0217],\n",
              "        [-0.2579, -0.1915,  0.0233],\n",
              "        [-0.2578, -0.1907,  0.0229],\n",
              "        [-0.2573, -0.1905,  0.0239],\n",
              "        [-0.2577, -0.1910,  0.0223],\n",
              "        [-0.2561, -0.1902,  0.0214],\n",
              "        [-0.2586, -0.1913,  0.0253],\n",
              "        [-0.2573, -0.1905,  0.0233],\n",
              "        [-0.2591, -0.1905,  0.0273],\n",
              "        [-0.2590, -0.1920,  0.0244],\n",
              "        [-0.2579, -0.1904,  0.0226],\n",
              "        [-0.2565, -0.1905,  0.0224],\n",
              "        [-0.2571, -0.1906,  0.0236],\n",
              "        [-0.2597, -0.1914,  0.0258],\n",
              "        [-0.2564, -0.1904,  0.0224],\n",
              "        [-0.2574, -0.1898,  0.0242],\n",
              "        [-0.2565, -0.1902,  0.0231],\n",
              "        [-0.2563, -0.1910,  0.0207],\n",
              "        [-0.2572, -0.1912,  0.0222],\n",
              "        [-0.2576, -0.1914,  0.0226],\n",
              "        [-0.2580, -0.1904,  0.0261],\n",
              "        [-0.2580, -0.1910,  0.0233],\n",
              "        [-0.2588, -0.1905,  0.0252],\n",
              "        [-0.2563, -0.1913,  0.0198],\n",
              "        [-0.2562, -0.1904,  0.0217],\n",
              "        [-0.2567, -0.1905,  0.0223],\n",
              "        [-0.2563, -0.1899,  0.0215],\n",
              "        [-0.2581, -0.1913,  0.0237],\n",
              "        [-0.2563, -0.1902,  0.0221],\n",
              "        [-0.2581, -0.1914,  0.0237],\n",
              "        [-0.2574, -0.1906,  0.0233],\n",
              "        [-0.2547, -0.1895,  0.0206],\n",
              "        [-0.2554, -0.1896,  0.0205],\n",
              "        [-0.2566, -0.1899,  0.0227],\n",
              "        [-0.2555, -0.1899,  0.0215],\n",
              "        [-0.2580, -0.1914,  0.0237],\n",
              "        [-0.2556, -0.1909,  0.0193],\n",
              "        [-0.2569, -0.1907,  0.0219],\n",
              "        [-0.2569, -0.1907,  0.0228],\n",
              "        [-0.2560, -0.1901,  0.0223],\n",
              "        [-0.2557, -0.1902,  0.0206],\n",
              "        [-0.2567, -0.1905,  0.0228],\n",
              "        [-0.2566, -0.1900,  0.0224],\n",
              "        [-0.2583, -0.1903,  0.0243],\n",
              "        [-0.2568, -0.1906,  0.0229],\n",
              "        [-0.2564, -0.1898,  0.0221],\n",
              "        [-0.2573, -0.1911,  0.0219],\n",
              "        [-0.2573, -0.1910,  0.0230],\n",
              "        [-0.2571, -0.1911,  0.0216],\n",
              "        [-0.2580, -0.1917,  0.0228],\n",
              "        [-0.2562, -0.1892,  0.0228],\n",
              "        [-0.2578, -0.1919,  0.0217],\n",
              "        [-0.2551, -0.1905,  0.0193],\n",
              "        [-0.2534, -0.1892,  0.0186],\n",
              "        [-0.2563, -0.1908,  0.0210],\n",
              "        [-0.2579, -0.1913,  0.0236],\n",
              "        [-0.2565, -0.1909,  0.0215],\n",
              "        [-0.2570, -0.1895,  0.0234],\n",
              "        [-0.2550, -0.1900,  0.0201],\n",
              "        [-0.2576, -0.1909,  0.0239],\n",
              "        [-0.2567, -0.1907,  0.0223],\n",
              "        [-0.2584, -0.1910,  0.0248],\n",
              "        [-0.2564, -0.1904,  0.0217],\n",
              "        [-0.2592, -0.1919,  0.0250],\n",
              "        [-0.2567, -0.1902,  0.0236],\n",
              "        [-0.2574, -0.1905,  0.0245],\n",
              "        [-0.2567, -0.1891,  0.0234],\n",
              "        [-0.2568, -0.1896,  0.0228],\n",
              "        [-0.2578, -0.1909,  0.0235],\n",
              "        [-0.2555, -0.1899,  0.0217],\n",
              "        [-0.2572, -0.1915,  0.0216],\n",
              "        [-0.2523, -0.1896,  0.0152],\n",
              "        [-0.2546, -0.1893,  0.0198],\n",
              "        [-0.2571, -0.1903,  0.0227],\n",
              "        [-0.2563, -0.1898,  0.0237],\n",
              "        [-0.2554, -0.1898,  0.0216],\n",
              "        [-0.2593, -0.1918,  0.0247],\n",
              "        [-0.2584, -0.1907,  0.0236],\n",
              "        [-0.2569, -0.1903,  0.0220],\n",
              "        [-0.2558, -0.1893,  0.0223],\n",
              "        [-0.2564, -0.1908,  0.0214],\n",
              "        [-0.2586, -0.1911,  0.0258],\n",
              "        [-0.2555, -0.1905,  0.0200],\n",
              "        [-0.2563, -0.1904,  0.0221],\n",
              "        [-0.2584, -0.1907,  0.0257],\n",
              "        [-0.2561, -0.1905,  0.0215],\n",
              "        [-0.2556, -0.1899,  0.0220],\n",
              "        [-0.2572, -0.1911,  0.0225],\n",
              "        [-0.2557, -0.1903,  0.0195],\n",
              "        [-0.2563, -0.1903,  0.0216],\n",
              "        [-0.2578, -0.1914,  0.0231],\n",
              "        [-0.2576, -0.1909,  0.0229],\n",
              "        [-0.2557, -0.1895,  0.0220],\n",
              "        [-0.2558, -0.1907,  0.0202],\n",
              "        [-0.2567, -0.1911,  0.0203],\n",
              "        [-0.2562, -0.1899,  0.0213],\n",
              "        [-0.2568, -0.1898,  0.0237],\n",
              "        [-0.2575, -0.1910,  0.0234],\n",
              "        [-0.2584, -0.1907,  0.0257],\n",
              "        [-0.2567, -0.1912,  0.0212],\n",
              "        [-0.2583, -0.1912,  0.0233],\n",
              "        [-0.2572, -0.1906,  0.0238],\n",
              "        [-0.2577, -0.1891,  0.0255],\n",
              "        [-0.2555, -0.1902,  0.0208],\n",
              "        [-0.2567, -0.1899,  0.0230],\n",
              "        [-0.2550, -0.1895,  0.0214],\n",
              "        [-0.2569, -0.1912,  0.0216],\n",
              "        [-0.2564, -0.1898,  0.0222],\n",
              "        [-0.2580, -0.1911,  0.0239],\n",
              "        [-0.2563, -0.1900,  0.0218],\n",
              "        [-0.2564, -0.1906,  0.0220],\n",
              "        [-0.2573, -0.1902,  0.0230],\n",
              "        [-0.2560, -0.1904,  0.0212],\n",
              "        [-0.2589, -0.1923,  0.0235],\n",
              "        [-0.2576, -0.1917,  0.0220],\n",
              "        [-0.2576, -0.1908,  0.0237],\n",
              "        [-0.2571, -0.1910,  0.0226],\n",
              "        [-0.2571, -0.1907,  0.0221],\n",
              "        [-0.2552, -0.1908,  0.0185],\n",
              "        [-0.2561, -0.1908,  0.0209],\n",
              "        [-0.2552, -0.1895,  0.0214],\n",
              "        [-0.2544, -0.1898,  0.0191],\n",
              "        [-0.2555, -0.1893,  0.0205],\n",
              "        [-0.2569, -0.1902,  0.0241]], grad_fn=<AddmmBackward0>)"
            ]
          },
          "metadata": {},
          "execution_count": 9
        }
      ]
    },
    {
      "cell_type": "code",
      "source": [
        "torch.max(outputs, 1)"
      ],
      "metadata": {
        "colab": {
          "base_uri": "https://localhost:8080/"
        },
        "id": "KL1okCAQYKYL",
        "outputId": "86d14ba5-616e-40ae-f004-e6513266ab1a"
      },
      "execution_count": null,
      "outputs": [
        {
          "output_type": "execute_result",
          "data": {
            "text/plain": [
              "torch.return_types.max(\n",
              "values=tensor([0.0187, 0.0226, 0.0200, 0.0219, 0.0217, 0.0233, 0.0229, 0.0239, 0.0223,\n",
              "        0.0214, 0.0253, 0.0233, 0.0273, 0.0244, 0.0226, 0.0224, 0.0236, 0.0258,\n",
              "        0.0224, 0.0242, 0.0231, 0.0207, 0.0222, 0.0226, 0.0261, 0.0233, 0.0252,\n",
              "        0.0198, 0.0217, 0.0223, 0.0215, 0.0237, 0.0221, 0.0237, 0.0233, 0.0206,\n",
              "        0.0205, 0.0227, 0.0215, 0.0237, 0.0193, 0.0219, 0.0228, 0.0223, 0.0206,\n",
              "        0.0228, 0.0224, 0.0243, 0.0229, 0.0221, 0.0219, 0.0230, 0.0216, 0.0228,\n",
              "        0.0228, 0.0217, 0.0193, 0.0186, 0.0210, 0.0236, 0.0215, 0.0234, 0.0201,\n",
              "        0.0239, 0.0223, 0.0248, 0.0217, 0.0250, 0.0236, 0.0245, 0.0234, 0.0228,\n",
              "        0.0235, 0.0217, 0.0216, 0.0152, 0.0198, 0.0227, 0.0237, 0.0216, 0.0247,\n",
              "        0.0236, 0.0220, 0.0223, 0.0214, 0.0258, 0.0200, 0.0221, 0.0257, 0.0215,\n",
              "        0.0220, 0.0225, 0.0195, 0.0216, 0.0231, 0.0229, 0.0220, 0.0202, 0.0203,\n",
              "        0.0213, 0.0237, 0.0234, 0.0257, 0.0212, 0.0233, 0.0238, 0.0255, 0.0208,\n",
              "        0.0230, 0.0214, 0.0216, 0.0222, 0.0239, 0.0218, 0.0220, 0.0230, 0.0212,\n",
              "        0.0235, 0.0220, 0.0237, 0.0226, 0.0221, 0.0185, 0.0209, 0.0214, 0.0191,\n",
              "        0.0205, 0.0241], grad_fn=<MaxBackward0>),\n",
              "indices=tensor([2, 2, 2, 2, 2, 2, 2, 2, 2, 2, 2, 2, 2, 2, 2, 2, 2, 2, 2, 2, 2, 2, 2, 2,\n",
              "        2, 2, 2, 2, 2, 2, 2, 2, 2, 2, 2, 2, 2, 2, 2, 2, 2, 2, 2, 2, 2, 2, 2, 2,\n",
              "        2, 2, 2, 2, 2, 2, 2, 2, 2, 2, 2, 2, 2, 2, 2, 2, 2, 2, 2, 2, 2, 2, 2, 2,\n",
              "        2, 2, 2, 2, 2, 2, 2, 2, 2, 2, 2, 2, 2, 2, 2, 2, 2, 2, 2, 2, 2, 2, 2, 2,\n",
              "        2, 2, 2, 2, 2, 2, 2, 2, 2, 2, 2, 2, 2, 2, 2, 2, 2, 2, 2, 2, 2, 2, 2, 2,\n",
              "        2, 2, 2, 2, 2, 2, 2, 2]))"
            ]
          },
          "metadata": {},
          "execution_count": 10
        }
      ]
    },
    {
      "cell_type": "code",
      "source": [
        "outputs.data.cpu().numpy().argmax()"
      ],
      "metadata": {
        "colab": {
          "base_uri": "https://localhost:8080/"
        },
        "id": "1mPiRWZSYlNV",
        "outputId": "9d2655b4-1efa-4dd8-d459-06032cf924bf"
      },
      "execution_count": null,
      "outputs": [
        {
          "output_type": "execute_result",
          "data": {
            "text/plain": [
              "38"
            ]
          },
          "metadata": {},
          "execution_count": 11
        }
      ]
    },
    {
      "cell_type": "code",
      "source": [
        "from torch.autograd import Variable\n",
        "from PIL import Image\n",
        "\n",
        "def predict_image(image):\n",
        "    image_tensor = transform(image).float()\n",
        "    image_tensor = image_tensor.unsqueeze_(0)\n",
        "    input = Variable(image_tensor)\n",
        "    # input = input.to(\"cuda\")\n",
        "    output = net(input)\n",
        "    index = output.data.cpu().numpy().argmax()\n",
        "    return index"
      ],
      "metadata": {
        "id": "ckqJ0lI_fSUH"
      },
      "execution_count": null,
      "outputs": []
    },
    {
      "cell_type": "code",
      "source": [
        "predict_image(Image.open(data['img_path'][2100]))"
      ],
      "metadata": {
        "colab": {
          "base_uri": "https://localhost:8080/"
        },
        "id": "TN7GwhIdjVnj",
        "outputId": "95f7d7c8-8d4f-4bfa-c7d0-0c93feadbda9"
      },
      "execution_count": null,
      "outputs": [
        {
          "output_type": "execute_result",
          "data": {
            "text/plain": [
              "2"
            ]
          },
          "metadata": {},
          "execution_count": 13
        }
      ]
    },
    {
      "cell_type": "code",
      "source": [
        "Image.open(data['img_path'][2100])"
      ],
      "metadata": {
        "colab": {
          "base_uri": "https://localhost:8080/",
          "height": 273
        },
        "id": "dTSu19gujc61",
        "outputId": "e0f9c4c6-ad7b-4eff-add7-0c3a8509ab3e"
      },
      "execution_count": null,
      "outputs": [
        {
          "output_type": "execute_result",
          "data": {
            "text/plain": [
              "<PIL.JpegImagePlugin.JpegImageFile image mode=RGB size=256x256 at 0x7F7C6AF46D10>"
            ],
            "image/png": "[encoded data removed]"
          },
          "metadata": {},
          "execution_count": 14
        }
      ]
    },
    {
      "cell_type": "code",
      "source": [
        "data['label'][2100]"
      ],
      "metadata": {
        "colab": {
          "base_uri": "https://localhost:8080/"
        },
        "id": "AfW8D1thjlca",
        "outputId": "bce38bea-fde3-4ca1-a694-652c704eac83"
      },
      "execution_count": null,
      "outputs": [
        {
          "output_type": "execute_result",
          "data": {
            "text/plain": [
              "2"
            ]
          },
          "metadata": {},
          "execution_count": 15
        }
      ]
    },
    {
      "cell_type": "code",
      "source": [
        "len(data[data['label']==0]), len(data[data['label']==1]), len(data[data['label']==2])"
      ],
      "metadata": {
        "colab": {
          "base_uri": "https://localhost:8080/"
        },
        "id": "JcCKxL4Pj8CN",
        "outputId": "66765621-4bb7-468e-c512-5b936b03fd14"
      },
      "execution_count": null,
      "outputs": [
        {
          "output_type": "execute_result",
          "data": {
            "text/plain": [
              "(152, 1000, 1000)"
            ]
          },
          "metadata": {},
          "execution_count": 16
        }
      ]
    },
    {
      "cell_type": "markdown",
      "source": [
        "*unet architecture*"
      ],
      "metadata": {
        "id": "sOAJtVz_ku6S"
      }
    },
    {
      "cell_type": "code",
      "source": [
        "class DroneDataset(Dataset):\n",
        "  def __init__(self, csv_file, transform= None):\n",
        "    self.data_file= csv_file\n",
        "    self.transform= transform\n",
        "  \n",
        "  def __len__(self):\n",
        "    return len(self.data_file)\n",
        "  \n",
        "  def __getitem__(self, idx):\n",
        "    if torch.is_tensor(idx):\n",
        "      idx= idx.tolist()\n",
        "\n",
        "    image= cv2.imread(self.data_file.iloc[idx,0])\n",
        "    # print(image)\n",
        "    label= torch.tensor(self.data_file.iloc[idx,1])\n",
        "    # if label==0:\n",
        "    #   label= 0.0\n",
        "    # else:\n",
        "    #   label==1.0\n",
        "    # print(label)\n",
        "    sample= image\n",
        "    if self.transform:\n",
        "      sample= self.transform(sample)\n",
        "    \n",
        "    return sample, label"
      ],
      "metadata": {
        "id": "6gzNpzeukQ4e"
      },
      "execution_count": null,
      "outputs": []
    },
    {
      "cell_type": "code",
      "source": [
        "data= pd.read_excel('/content/drive/MyDrive/drone_project_data/processed_data/prototype_data/img_path_list.xlsx')\n",
        "\n",
        "transform = transforms.Compose(\n",
        "    [transforms.ToTensor(),])\n",
        "    # transforms.Normalize((0.5, 0.5, 0.5), (0.5, 0.5, 0.5))])\n",
        "\n",
        "img_dataset_train= DroneDataset(data[:2000], transform)\n",
        "img_dataset_test= DroneDataset(data[2000:], transform)\n",
        "\n",
        "batch_size= 8\n",
        "\n",
        "img_data_loader_train= DataLoader(img_dataset_train, batch_size= batch_size, shuffle= True)\n",
        "img_data_loader_test= DataLoader(img_dataset_test, batch_size= batch_size, shuffle= True)"
      ],
      "metadata": {
        "id": "EY69_sKHlGo9"
      },
      "execution_count": null,
      "outputs": []
    },
    {
      "cell_type": "code",
      "source": [
        "# iter(img_data_loader_train).next()[0].shape"
      ],
      "metadata": {
        "id": "aYjretehlJlK"
      },
      "execution_count": null,
      "outputs": []
    },
    {
      "cell_type": "code",
      "source": [
        "#unet model encoder-decoder architecture\n",
        "\n",
        "class DoubleConv(nn.Module):\n",
        "  def __init__(self, in_channels, out_channels, mid_channels= None):\n",
        "    super().__init__()\n",
        "    if not mid_channels:\n",
        "      mid_channels= out_channels\n",
        "    \n",
        "    self.double_conv= nn.Sequential(\n",
        "        nn.Conv2d(in_channels, mid_channels, kernel_size= 3, padding= 1, bias= False),\n",
        "        nn.BatchNorm2d(mid_channels),\n",
        "        nn.ReLU(),\n",
        "        nn.Conv2d(mid_channels, out_channels, kernel_size= 3, padding= 1, bias= False),\n",
        "        nn.BatchNorm2d(out_channels),\n",
        "        nn.ReLU()\n",
        "    )\n",
        "  \n",
        "  def forward(self, x):\n",
        "    return self.double_conv(x)\n",
        "\n",
        "\n",
        "class Down(nn.Module):\n",
        "  def __init__(self, in_channels, out_channels):\n",
        "    super().__init__()\n",
        "    self.maxpool_conv= nn.Sequential(\n",
        "        nn.MaxPool2d(2),\n",
        "        DoubleConv(in_channels, out_channels)\n",
        "    )\n",
        "  \n",
        "  def forward(self, x):\n",
        "    return self.maxpool_conv(x)\n",
        "\n",
        "\n",
        "class Up(nn.Module):\n",
        "  def __init__(self, in_channels, out_channels, bilinear= True):\n",
        "    super().__init__()\n",
        "    if bilinear:\n",
        "      self.up= nn.Upsample(scale_factor= 2, mode= 'bilinear', align_corners= True)\n",
        "      self.conv= DoubleConv(in_channels, out_channels, in_channels//2)\n",
        "    else:\n",
        "      self.up= nn.ConvTranspose2d(in_channels, in_channels//2, kernel_size= 2, stride= 2)\n",
        "      self.conv= DoubleConv(in_channels, out_channels)\n",
        "  \n",
        "  def forward(self, x1, x2):\n",
        "    x1= self.up(x1)\n",
        "    diffY= x2.size()[2]- x1.size()[2]\n",
        "    diffX= x2.size()[3]- x1.size()[3]\n",
        "    x1= F.pad(x1, [diffX//2, diffX-diffX//2,\n",
        "                   diffY//2, diffY-diffY//2])\n",
        "    x= torch.cat([x2, x1], dim= 1)\n",
        "    return self.conv(x)\n",
        "\n",
        "\n",
        "class OutConv(nn.Module):\n",
        "  def __init__(self, in_channels, out_channels):\n",
        "    super(OutConv, self).__init__()\n",
        "    self.conv= nn.Conv2d(in_channels, out_channels, kernel_size= 1)\n",
        "  \n",
        "  def forward(self, x):\n",
        "    return self.conv(x)"
      ],
      "metadata": {
        "id": "cYluIFjzm-qp"
      },
      "execution_count": null,
      "outputs": []
    },
    {
      "cell_type": "code",
      "source": [
        "#full architecture of UNet model\n",
        "\n",
        "class UNet(nn.Module):\n",
        "  def __init__(self, n_channels, n_classes, bilinear= False):\n",
        "    super(UNet, self).__init__()\n",
        "    self.n_channels= n_channels\n",
        "    self.n_classes= n_classes\n",
        "    self.bilinear= bilinear\n",
        "\n",
        "    self.inc= DoubleConv(n_channels, 64)\n",
        "    self.down1= Down(64, 128)\n",
        "    self.down2= Down(128, 256)\n",
        "    self.down3= Down(256, 512)\n",
        "    factor= 2 if bilinear else 1\n",
        "    self.down4= Down(512, 1024//factor)\n",
        "    self.up1= Up(1024, 512//factor, bilinear)\n",
        "    self.up2= Up(512, 256//factor, bilinear)\n",
        "    self.up3= Up(256, 128//factor, bilinear)\n",
        "    self.up4= Up(128, 64, bilinear)\n",
        "    self.outc= OutConv(64, n_classes)\n",
        "  \n",
        "  def forward(self, x):\n",
        "    x1= self.inc(x)\n",
        "    x2= self.down1(x1)\n",
        "    x3= self.down2(x2)\n",
        "    x4= self.down3(x3)\n",
        "    x5= self.down4(x4)\n",
        "    x= self.up1(x5, x4)\n",
        "    x= self.up2(x, x3)\n",
        "    x= self.up3(x, x2)\n",
        "    x= self.up4(x, x1)\n",
        "    logits= self.outc(x)\n",
        "    return logits\n",
        "\n",
        "\n",
        "net= UNet(3, 3)"
      ],
      "metadata": {
        "id": "xTttKbwrbRJA"
      },
      "execution_count": null,
      "outputs": []
    },
    {
      "cell_type": "code",
      "source": [
        "criterion= nn.CrossEntropyLoss()\n",
        "optimizer= optim.Adam(net.parameters(), lr=0.001)"
      ],
      "metadata": {
        "id": "pysCd06b0ACu"
      },
      "execution_count": null,
      "outputs": []
    },
    {
      "cell_type": "code",
      "source": [
        "print(\"Training UNet Model...\")\n",
        "\n",
        "for epoch in range(2):\n",
        "  running_loss= 0.0\n",
        "  for i, data_1 in enumerate(img_data_loader_train, 0):\n",
        "    inputs, labels= data_1\n",
        "    # print(labels)\n",
        "    optimizer.zero_grad()\n",
        "    # import pdb; pdb.set_trace();\n",
        "    outputs= net(inputs)\n",
        "    import pdb; pdb.set_trace();\n",
        "    loss= criterion(outputs, labels)\n",
        "    loss.backward()\n",
        "    optimizer\n",
        "    \n",
        "    running_loss+= loss.item()\n",
        "    # print(i, running_loss)\n",
        "\n",
        "    if i%2 == 1:\n",
        "      print(f'[{epoch + 1}, {i + 1:5d}] loss: {running_loss / 200:.3f}')\n",
        "      running_loss = 0.0\n",
        "\n",
        "print('Finished Training')"
      ],
      "metadata": {
        "id": "Gw1nZqT48baK"
      },
      "execution_count": null,
      "outputs": []
    },
    {
      "cell_type": "code",
      "source": [
        "iter(img_data_loader_train).next()[0].detach().numpy().shape"
      ],
      "metadata": {
        "id": "0aRZNKmIkhXt"
      },
      "execution_count": null,
      "outputs": []
    },
    {
      "cell_type": "code",
      "source": [
        "!pip install wandb"
      ],
      "metadata": {
        "colab": {
          "base_uri": "https://localhost:8080/"
        },
        "id": "20HQ8pwqr75C",
        "outputId": "7e944430-7526-46c8-e38b-bea29b0cc683"
      },
      "execution_count": null,
      "outputs": [
        {
          "output_type": "stream",
          "name": "stdout",
          "text": [
            "Looking in indexes: https://pypi.org/simple, https://us-python.pkg.dev/colab-wheels/public/simple/\n",
            "Requirement already satisfied: wandb in /usr/local/lib/python3.7/dist-packages (0.13.4)\n",
            "Requirement already satisfied: requests<3,>=2.0.0 in /usr/local/lib/python3.7/dist-packages (from wandb) (2.23.0)\n",
            "Requirement already satisfied: GitPython>=1.0.0 in /usr/local/lib/python3.7/dist-packages (from wandb) (3.1.29)\n",
            "Requirement already satisfied: six>=1.13.0 in /usr/local/lib/python3.7/dist-packages (from wandb) (1.15.0)\n",
            "Requirement already satisfied: PyYAML in /usr/local/lib/python3.7/dist-packages (from wandb) (6.0)\n",
            "Requirement already satisfied: setuptools in /usr/local/lib/python3.7/dist-packages (from wandb) (57.4.0)\n",
            "Requirement already satisfied: shortuuid>=0.5.0 in /usr/local/lib/python3.7/dist-packages (from wandb) (1.0.9)\n",
            "Requirement already satisfied: sentry-sdk>=1.0.0 in /usr/local/lib/python3.7/dist-packages (from wandb) (1.9.0)\n",
            "Requirement already satisfied: protobuf!=4.0.*,!=4.21.0,<5,>=3.12.0 in /usr/local/lib/python3.7/dist-packages (from wandb) (3.17.3)\n",
            "Requirement already satisfied: pathtools in /usr/local/lib/python3.7/dist-packages (from wandb) (0.1.2)\n",
            "Requirement already satisfied: docker-pycreds>=0.4.0 in /usr/local/lib/python3.7/dist-packages (from wandb) (0.4.0)\n",
            "Requirement already satisfied: setproctitle in /usr/local/lib/python3.7/dist-packages (from wandb) (1.3.2)\n",
            "Requirement already satisfied: Click!=8.0.0,>=7.0 in /usr/local/lib/python3.7/dist-packages (from wandb) (7.1.2)\n",
            "Requirement already satisfied: promise<3,>=2.0 in /usr/local/lib/python3.7/dist-packages (from wandb) (2.3)\n",
            "Requirement already satisfied: psutil>=5.0.0 in /usr/local/lib/python3.7/dist-packages (from wandb) (5.4.8)\n",
            "Requirement already satisfied: typing-extensions>=3.7.4.3 in /usr/local/lib/python3.7/dist-packages (from GitPython>=1.0.0->wandb) (4.1.1)\n",
            "Requirement already satisfied: gitdb<5,>=4.0.1 in /usr/local/lib/python3.7/dist-packages (from GitPython>=1.0.0->wandb) (4.0.9)\n",
            "Requirement already satisfied: smmap<6,>=3.0.1 in /usr/local/lib/python3.7/dist-packages (from gitdb<5,>=4.0.1->GitPython>=1.0.0->wandb) (5.0.0)\n",
            "Requirement already satisfied: certifi>=2017.4.17 in /usr/local/lib/python3.7/dist-packages (from requests<3,>=2.0.0->wandb) (2022.9.24)\n",
            "Requirement already satisfied: idna<3,>=2.5 in /usr/local/lib/python3.7/dist-packages (from requests<3,>=2.0.0->wandb) (2.10)\n",
            "Requirement already satisfied: chardet<4,>=3.0.2 in /usr/local/lib/python3.7/dist-packages (from requests<3,>=2.0.0->wandb) (3.0.4)\n",
            "Requirement already satisfied: urllib3!=1.25.0,!=1.25.1,<1.26,>=1.21.1 in /usr/local/lib/python3.7/dist-packages (from requests<3,>=2.0.0->wandb) (1.24.3)\n",
            "Looking in indexes: https://pypi.org/simple, https://us-python.pkg.dev/colab-wheels/public/simple/\n",
            "Requirement already satisfied: utils in /usr/local/lib/python3.7/dist-packages (1.0.1)\n"
          ]
        }
      ]
    },
    {
      "cell_type": "code",
      "source": [
        "import argparse\n",
        "import logging\n",
        "import sys\n",
        "from pathlib import Path\n",
        "\n",
        "import torch\n",
        "import torch.nn as nn\n",
        "import torch.nn.functional as F\n",
        "import wandb\n",
        "from torch import optim\n",
        "from torch.utils.data import DataLoader, random_split\n",
        "from tqdm import tqdm\n",
        "\n",
        "# from utils.data_loading import BasicDataset, CarvanaDataset\n",
        "# from utils.dice_score import dice_loss\n",
        "# from evaluate import evaluate\n",
        "# from unet import UNet\n",
        "\n",
        "dir_img = ''\n",
        "dir_mask = ''\n",
        "dir_checkpoint = ''\n",
        "\n",
        "\n",
        "# 4. Set up the optimizer, the loss, the learning rate scheduler and the loss scaling for AMP\n",
        "optimizer = optim.RMSprop(net.parameters(), lr=1e-5, weight_decay=1e-8, momentum=0.9)\n",
        "scheduler = optim.lr_scheduler.ReduceLROnPlateau(optimizer, 'max', patience=2)  # goal: maximize Dice score\n",
        "grad_scaler = torch.cuda.amp.GradScaler(enabled=False)\n",
        "criterion = nn.CrossEntropyLoss()\n",
        "global_step = 0\n",
        "\n",
        "# 5. Begin training\n",
        "for epoch in range(1, 3):\n",
        "    net.train()\n",
        "    epoch_loss = 0\n",
        "    with tqdm(total=2000, desc=f'Epoch {epoch}/3', unit='img') as pbar:\n",
        "        for batch in img_data_loader_train:\n",
        "            # images = batch['image']\n",
        "            # true_masks = batch['mask']\n",
        "\n",
        "            images, true_masks= batch\n",
        "\n",
        "            assert images.shape[1] == net.n_channels, \\\n",
        "                f'Network has been defined with {net.n_channels} input channels, ' \\\n",
        "                f'but loaded images have {images.shape[1]} channels. Please check that ' \\\n",
        "                'the images are loaded correctly.'\n",
        "\n",
        "            images = images.to(device='cpu', dtype=torch.float32)\n",
        "            true_masks = true_masks.to(device='cpu', dtype=torch.long)\n",
        "\n",
        "            with torch.cuda.amp.autocast(enabled=False):\n",
        "                masks_pred = net(images)\n",
        "                loss = criterion(masks_pred, true_masks)\n",
        "\n",
        "            optimizer.zero_grad(set_to_none=True)\n",
        "            grad_scaler.scale(loss).backward()\n",
        "            grad_scaler.step(optimizer)\n",
        "            grad_scaler.update()\n",
        "\n",
        "            pbar.update(images.shape[0])\n",
        "            global_step += 1\n",
        "            epoch_loss += loss.item()\n"
      ],
      "metadata": {
        "id": "HZ9EV2weo1Iw"
      },
      "execution_count": null,
      "outputs": []
    },
    {
      "cell_type": "markdown",
      "source": [
        "*scratch architecture*"
      ],
      "metadata": {
        "id": "2fEpx8SQwvVV"
      }
    },
    {
      "cell_type": "code",
      "source": [
        "class DroneDataset(Dataset):\n",
        "  def __init__(self, csv_file, transform= None):\n",
        "    self.data_file= csv_file\n",
        "    self.transform= transform\n",
        "  \n",
        "  def __len__(self):\n",
        "    return len(self.data_file)\n",
        "  \n",
        "  def __getitem__(self, idx):\n",
        "    if torch.is_tensor(idx):\n",
        "      idx= idx.tolist()\n",
        "\n",
        "    image= cv2.imread(self.data_file.iloc[idx,0])\n",
        "    label= self.data_file.iloc[idx,1]\n",
        "    sample= image\n",
        "    if self.transform:\n",
        "      sample= self.transform(sample)\n",
        "    \n",
        "    return sample, label"
      ],
      "metadata": {
        "id": "WEtFaVZvr5hG"
      },
      "execution_count": null,
      "outputs": []
    },
    {
      "cell_type": "code",
      "source": [
        "data= pd.read_excel('/content/drive/MyDrive/drone_project_data/processed_data/prototype_data/img_path_list.xlsx')\n",
        "\n",
        "transform = transforms.Compose(\n",
        "    [transforms.ToTensor(),])\n",
        "    # transforms.Normalize((0.5, 0.5, 0.5), (0.5, 0.5, 0.5))])\n",
        "\n",
        "img_dataset_train= DroneDataset(data[:2000], transform)\n",
        "img_dataset_test= DroneDataset(data[2000:], transform)\n",
        "\n",
        "batch_size= 128\n",
        "\n",
        "img_data_loader_train= DataLoader(img_dataset_train, batch_size= batch_size, shuffle= True)\n",
        "img_data_loader_test= DataLoader(img_dataset_test, batch_size= batch_size, shuffle= True)"
      ],
      "metadata": {
        "id": "cCALkDRBw18N"
      },
      "execution_count": null,
      "outputs": []
    },
    {
      "cell_type": "code",
      "source": [
        "class DroneNetArchitecure(nn.Module):\n",
        "  def __init__(self):\n",
        "    super(DroneNetArchitecure, self).__init__()\n",
        "    self.conv1= nn.Conv2d(3,8, 3, padding= 1)\n",
        "    self.conv2= nn.Conv2d(8,16, 3, padding= 1)\n",
        "    self.conv3= nn.Conv2d(16,32, 3, padding= 1)\n",
        "    self.conv4= nn.Conv2d(32,64, 3, padding= 1)\n",
        "    self.conv5= nn.Conv2d(64,128, 3, padding= 1)\n",
        "    self.conv6= nn.Conv2d(128,256, 3, padding= 1)\n",
        "    self.conv7= nn.Conv2d(256,512, 3, padding= 1)\n",
        "    self.pool= nn.MaxPool2d(2)\n",
        "    self.fc1= nn.Linear(512*2*2, 1500)\n",
        "    self.fc2= nn.Linear(1500, 1100)\n",
        "    self.fc3= nn.Linear(1100, 800)\n",
        "    self.fc4= nn.Linear(800, 300)\n",
        "    self.fc5= nn.Linear(300, 84)\n",
        "    self.fc6= nn.Linear(84, 30)\n",
        "    self.fc7= nn.Linear(30, 3)\n",
        "    self.dp= nn.Dropout(0.5)\n",
        "  \n",
        "  def forward(self, x):\n",
        "    x= self.pool(F.relu(self.conv1(x)))\n",
        "    x= self.pool(F.relu(self.conv2(x)))\n",
        "    x= self.pool(F.relu(self.conv3(x)))\n",
        "    x= self.pool(F.relu(self.conv4(x)))\n",
        "    x= self.pool(F.relu(self.conv5(x)))\n",
        "    x= self.pool(F.relu(self.conv6(x)))\n",
        "    x= self.pool(F.relu(self.conv7(x))) \n",
        "    # import pdb; pdb.set_trace();\n",
        "    x= torch.flatten(x, 1)\n",
        "    # import pdb; pdb.set_trace();\n",
        "    x= F.relu(self.dp(self.fc1(x)))\n",
        "    x= F.relu(self.dp(self.fc2(x)))\n",
        "    x= F.relu(self.dp(self.fc3(x)))\n",
        "    x= F.relu(self.dp(self.fc4(x)))\n",
        "    x= F.relu(self.dp(self.fc5(x)))\n",
        "    x= F.relu(self.dp(self.fc6(x)))\n",
        "    x= self.fc7(x)\n",
        "\n",
        "    return x\n",
        "\n",
        "net= DroneNetArchitecure()"
      ],
      "metadata": {
        "id": "R6SoJdz9w52u"
      },
      "execution_count": null,
      "outputs": []
    },
    {
      "cell_type": "code",
      "source": [
        "class CNN(nn.Module):\n",
        "    \"\"\"Convolutional Neural Network which does the raining.\"\"\"\n",
        "\n",
        "    def __init__(self):\n",
        "        super(CNN, self).__init__()\n",
        "        self.conv1 = nn.Conv2d(in_channels=3, out_channels=16, kernel_size=3)\n",
        "        self.conv2 = nn.Conv2d(in_channels=16, out_channels=32, kernel_size=3)\n",
        "        self.conv2_drop = nn.Dropout2d()\n",
        "        self.fc1 = nn.Linear(32 * 62 * 62, 1024)\n",
        "        self.fc2 = nn.Linear(1024, 3)\n",
        "\n",
        "    def forward(self, x):\n",
        "        x = F.relu(F.max_pool2d(self.conv1(x), 2))\n",
        "        x = F.relu(F.max_pool2d(self.conv2_drop(self.conv2(x)), 2))\n",
        "        # import pdb; pdb.set_trace();\n",
        "        x = x.view(-1, 32 * 62 * 62)\n",
        "        x = F.relu(self.fc1(x))\n",
        "        x = F.dropout(x, training=self.training)\n",
        "        x = self.fc2(x)\n",
        "        return x\n",
        "\n",
        "net= CNN()"
      ],
      "metadata": {
        "id": "g7zlnBDRXjHn"
      },
      "execution_count": null,
      "outputs": []
    },
    {
      "cell_type": "code",
      "source": [
        "class BasicCNN(nn.Module):\n",
        "    \"\"\"Convolutional Neural Network which does the raining.\"\"\"\n",
        "\n",
        "    def __init__(self):\n",
        "        super(BasicCNN, self).__init__()\n",
        "        self.conv1 = nn.Conv2d(in_channels=3, out_channels=3, kernel_size=3)\n",
        "        self.conv2 = nn.Conv2d(in_channels=3, out_channels=3, kernel_size=3)\n",
        "        # self.conv2_drop = nn.Dropout2d()\n",
        "        self.fc1 = nn.Linear(3 * 252 * 252, 1024)\n",
        "        self.fc2 = nn.Linear(1024, 3)\n",
        "\n",
        "    def forward(self, x):\n",
        "        x = F.relu(self.conv1(x))\n",
        "        x = F.relu(self.conv2(x))\n",
        "        # x = F.relu(F.max_pool2d(self.conv2_drop(self.conv2(x)), 2))\n",
        "        # import pdb; pdb.set_trace();\n",
        "        # x = x.view(-1, 32 * 62 * 62)\n",
        "        x = F.relu(self.fc1(x))\n",
        "        # x = F.dropout(x, training=self.training)\n",
        "        x = self.fc2(x)\n",
        "        return x\n",
        "\n",
        "net= BasicCNN()"
      ],
      "metadata": {
        "id": "56xOELOzwkMC"
      },
      "execution_count": null,
      "outputs": []
    },
    {
      "cell_type": "code",
      "source": [
        "criterion= nn.CrossEntropyLoss()\n",
        "optimizer= optim.Adam(net.parameters(), lr=0.01)"
      ],
      "metadata": {
        "id": "o9qfYxlCyvpD"
      },
      "execution_count": null,
      "outputs": []
    },
    {
      "cell_type": "code",
      "source": [
        "device=torch.device('cuda') if torch.cuda.is_available() else torch.device('cpu')\n",
        "net.to('cuda'), device"
      ],
      "metadata": {
        "colab": {
          "base_uri": "https://localhost:8080/"
        },
        "id": "_rhajhbqf5NU",
        "outputId": "ee717d3c-e6cc-48d6-87c6-520032e8e911"
      },
      "execution_count": null,
      "outputs": [
        {
          "output_type": "execute_result",
          "data": {
            "text/plain": [
              "(DroneNetArchitecure(\n",
              "   (conv1): Conv2d(3, 8, kernel_size=(3, 3), stride=(1, 1), padding=(1, 1))\n",
              "   (conv2): Conv2d(8, 16, kernel_size=(3, 3), stride=(1, 1), padding=(1, 1))\n",
              "   (conv3): Conv2d(16, 32, kernel_size=(3, 3), stride=(1, 1), padding=(1, 1))\n",
              "   (conv4): Conv2d(32, 64, kernel_size=(3, 3), stride=(1, 1), padding=(1, 1))\n",
              "   (conv5): Conv2d(64, 128, kernel_size=(3, 3), stride=(1, 1), padding=(1, 1))\n",
              "   (conv6): Conv2d(128, 256, kernel_size=(3, 3), stride=(1, 1), padding=(1, 1))\n",
              "   (conv7): Conv2d(256, 512, kernel_size=(3, 3), stride=(1, 1), padding=(1, 1))\n",
              "   (pool): MaxPool2d(kernel_size=2, stride=2, padding=0, dilation=1, ceil_mode=False)\n",
              "   (fc1): Linear(in_features=2048, out_features=1500, bias=True)\n",
              "   (fc2): Linear(in_features=1500, out_features=1100, bias=True)\n",
              "   (fc3): Linear(in_features=1100, out_features=800, bias=True)\n",
              "   (fc4): Linear(in_features=800, out_features=300, bias=True)\n",
              "   (fc5): Linear(in_features=300, out_features=84, bias=True)\n",
              "   (fc6): Linear(in_features=84, out_features=30, bias=True)\n",
              "   (fc7): Linear(in_features=30, out_features=3, bias=True)\n",
              "   (dp): Dropout(p=0.5, inplace=False)\n",
              " ), device(type='cuda'))"
            ]
          },
          "metadata": {},
          "execution_count": 18
        }
      ]
    },
    {
      "cell_type": "code",
      "source": [
        "print(\"Training DroneNet Model...\")\n",
        "\n",
        "running_loss_arr= []\n",
        "for epoch in range(30):\n",
        "  running_loss= 0.0\n",
        "  count= 0\n",
        "  for i, data_1 in enumerate(img_data_loader_train, 0):\n",
        "    inputs, labels= data_1\n",
        "    # print(labels)\n",
        "    optimizer.zero_grad()\n",
        "    # inputs.is_cuda\n",
        "    # import pdb; pdb.set_trace();\n",
        "    outputs= net(inputs.to(device))\n",
        "    labels = labels.long().to(device)\n",
        "    # labels.is_cuda\n",
        "    # import pdb; pdb.set_trace();\n",
        "    loss= criterion(outputs, labels)\n",
        "    loss.backward()\n",
        "    optimizer.step()\n",
        "    \n",
        "    running_loss+= loss.item()\n",
        "    count+= running_loss\n",
        "    \n",
        "    # print(i, running_loss)\n",
        "\n",
        "    if i%2 == 1:\n",
        "      print(f'[{epoch + 1}, {i + 1:5d}] loss: {running_loss / 200:.3f}')\n",
        "      running_loss = 0.0\n",
        "  running_loss_arr.append(count)\n",
        "\n",
        "print('Finished Training')"
      ],
      "metadata": {
        "colab": {
          "base_uri": "https://localhost:8080/",
          "height": 946
        },
        "id": "VyEvuN2fzGwA",
        "outputId": "deff159c-2e97-43f9-bc44-92a6d1b551d2"
      },
      "execution_count": null,
      "outputs": [
        {
          "output_type": "stream",
          "name": "stdout",
          "text": [
            "Training DroneNet Model...\n",
            "[1,     2] loss: 33.097\n",
            "[1,     4] loss: 0.011\n",
            "[1,     6] loss: 0.011\n",
            "[1,     8] loss: 0.013\n",
            "[1,    10] loss: 0.011\n",
            "[1,    12] loss: 0.011\n",
            "[1,    14] loss: 0.011\n",
            "[1,    16] loss: 0.010\n",
            "[2,     2] loss: 0.011\n",
            "[2,     4] loss: 0.010\n",
            "[2,     6] loss: 0.010\n",
            "[2,     8] loss: 0.010\n",
            "[2,    10] loss: 0.010\n",
            "[2,    12] loss: 0.010\n",
            "[2,    14] loss: 0.010\n",
            "[2,    16] loss: 0.010\n",
            "[3,     2] loss: 0.010\n",
            "[3,     4] loss: 0.010\n",
            "[3,     6] loss: 0.010\n",
            "[3,     8] loss: 0.010\n",
            "[3,    10] loss: 0.009\n",
            "[3,    12] loss: 0.009\n",
            "[3,    14] loss: 0.009\n",
            "[3,    16] loss: 0.010\n",
            "[4,     2] loss: 0.009\n",
            "[4,     4] loss: 0.009\n",
            "[4,     6] loss: 0.010\n",
            "[4,     8] loss: 0.009\n",
            "[4,    10] loss: 0.009\n",
            "[4,    12] loss: 0.009\n",
            "[4,    14] loss: 0.009\n",
            "[4,    16] loss: 0.009\n",
            "[5,     2] loss: 0.009\n",
            "[5,     4] loss: 0.010\n",
            "[5,     6] loss: 0.009\n",
            "[5,     8] loss: 0.010\n",
            "[5,    10] loss: 0.009\n",
            "[5,    12] loss: 0.009\n",
            "[5,    14] loss: 0.009\n",
            "[5,    16] loss: 0.009\n"
          ]
        },
        {
          "output_type": "error",
          "ename": "KeyboardInterrupt",
          "evalue": "ignored",
          "traceback": [
            "\u001b[0;31m---------------------------------------------------------------------------\u001b[0m",
            "\u001b[0;31mKeyboardInterrupt\u001b[0m                         Traceback (most recent call last)",
            "\u001b[0;32m<ipython-input-19-ec82d92ee198>\u001b[0m in \u001b[0;36m<module>\u001b[0;34m\u001b[0m\n\u001b[1;32m     11\u001b[0m     \u001b[0;31m# inputs.is_cuda\u001b[0m\u001b[0;34m\u001b[0m\u001b[0;34m\u001b[0m\u001b[0;34m\u001b[0m\u001b[0m\n\u001b[1;32m     12\u001b[0m     \u001b[0;31m# import pdb; pdb.set_trace();\u001b[0m\u001b[0;34m\u001b[0m\u001b[0;34m\u001b[0m\u001b[0;34m\u001b[0m\u001b[0m\n\u001b[0;32m---> 13\u001b[0;31m     \u001b[0moutputs\u001b[0m\u001b[0;34m=\u001b[0m \u001b[0mnet\u001b[0m\u001b[0;34m(\u001b[0m\u001b[0minputs\u001b[0m\u001b[0;34m.\u001b[0m\u001b[0mto\u001b[0m\u001b[0;34m(\u001b[0m\u001b[0mdevice\u001b[0m\u001b[0;34m)\u001b[0m\u001b[0;34m)\u001b[0m\u001b[0;34m\u001b[0m\u001b[0;34m\u001b[0m\u001b[0m\n\u001b[0m\u001b[1;32m     14\u001b[0m     \u001b[0mlabels\u001b[0m \u001b[0;34m=\u001b[0m \u001b[0mlabels\u001b[0m\u001b[0;34m.\u001b[0m\u001b[0mlong\u001b[0m\u001b[0;34m(\u001b[0m\u001b[0;34m)\u001b[0m\u001b[0;34m.\u001b[0m\u001b[0mto\u001b[0m\u001b[0;34m(\u001b[0m\u001b[0mdevice\u001b[0m\u001b[0;34m)\u001b[0m\u001b[0;34m\u001b[0m\u001b[0;34m\u001b[0m\u001b[0m\n\u001b[1;32m     15\u001b[0m     \u001b[0;31m# labels.is_cuda\u001b[0m\u001b[0;34m\u001b[0m\u001b[0;34m\u001b[0m\u001b[0;34m\u001b[0m\u001b[0m\n",
            "\u001b[0;31mKeyboardInterrupt\u001b[0m: "
          ]
        }
      ]
    },
    {
      "cell_type": "code",
      "source": [
        "import matplotlib.pyplot as plt\n",
        "\n",
        "plt.rcParams[\"figure.figsize\"] = (10,5)\n",
        "\n",
        "plt.plot(list(range(0,20)), running_loss_arr, linewidth=3, marker='o')\n",
        "\n",
        "plt.xlabel(\"no of epochs\",fontsize=20)\n",
        "\n",
        "plt.ylabel(\"loss\", fontsize=20)\n",
        "\n",
        "plt.title('Loss curve', fontsize=20)\n",
        "\n",
        "# plt.savefig('/content/drive/MyDrive/drone_project_data/processed_data/prototype_data/loss_curve_10epo.jpg')"
      ],
      "metadata": {
        "id": "GOFeFmkHJPFF"
      },
      "execution_count": null,
      "outputs": []
    },
    {
      "cell_type": "markdown",
      "source": [
        "*resnet9*"
      ],
      "metadata": {
        "id": "EcfsoANQ8UXV"
      }
    },
    {
      "cell_type": "code",
      "source": [
        "def conv_block(in_channels, out_channels, pool=False,p_size=2):\n",
        "    layers = [nn.Conv2d(in_channels, out_channels, kernel_size=3, padding=1), \n",
        "              nn.BatchNorm2d(out_channels), \n",
        "              nn.ReLU(inplace=True)]\n",
        "    if pool: layers.append(nn.MaxPool2d(p_size))\n",
        "    return nn.Sequential(*layers)\n",
        "\n",
        "class ResNet9(nn.Module):\n",
        "    def __init__(self, in_channels, num_classes):\n",
        "        super().__init__()\n",
        "        \n",
        "        self.conv1 = conv_block(3, 32)                             #32x150x150\n",
        "        self.conv2 = conv_block(32, 64, pool=True,p_size=4)                  #64x37x37\n",
        "        self.res1 = nn.Sequential(conv_block(64, 64), conv_block(64, 64))\n",
        "        \n",
        "        self.conv3 = conv_block(64, 128, pool=True,p_size=4)                 #128x9x9\n",
        "        self.conv4 = conv_block(128, 256, pool=True,p_size=4)                #256x2x2\n",
        "        self.res2 = nn.Sequential(conv_block(256, 256), conv_block(256, 256))\n",
        "        \n",
        "        self.classifier = nn.Sequential(nn.MaxPool2d(2),                     #256x1x1\n",
        "                                        nn.Flatten(), \n",
        "                                        nn.Linear(256, 3))\n",
        "        \n",
        "    def forward(self, xb):\n",
        "        \n",
        "        out = self.conv1(xb)\n",
        "        out = self.conv2(out)\n",
        "        out = self.res1(out) + out\n",
        "        \n",
        "        out = self.conv3(out)\n",
        "        out = self.conv4(out)\n",
        "        out = self.res2(out) + out\n",
        "        \n",
        "        out = self.classifier(out)\n",
        "        \n",
        "        return out\n",
        "\n",
        "device = torch.device(\"cuda\" if torch.cuda.is_available() else \"cpu\")\n",
        "model= ResNet9(3,3).to(device)"
      ],
      "metadata": {
        "id": "Vv9yjfrJgeEI"
      },
      "execution_count": null,
      "outputs": []
    },
    {
      "cell_type": "code",
      "source": [
        "print(\"Training ResNet9 Model...\")\n",
        "\n",
        "running_loss_arr= []\n",
        "for epoch in range(2):\n",
        "  running_loss= 0.0\n",
        "  count= 0\n",
        "  for i, data_1 in enumerate(img_data_loader_train, 0):\n",
        "    inputs, labels= data_1\n",
        "    # print(labels)\n",
        "    optimizer.zero_grad()\n",
        "    # inputs.is_cuda\n",
        "    # import pdb; pdb.set_trace();\n",
        "    outputs= net(inputs.to(device))\n",
        "    labels = labels.long().to(device)\n",
        "    # labels.is_cuda\n",
        "    # import pdb; pdb.set_trace();\n",
        "    loss= criterion(outputs, labels)\n",
        "    loss.backward()\n",
        "    optimizer.step()\n",
        "    \n",
        "    running_loss+= loss.item()\n",
        "    count+= running_loss\n",
        "    \n",
        "    # print(i, running_loss)\n",
        "\n",
        "    if i%2 == 1:\n",
        "      print(f'[{epoch + 1}, {i + 1:5d}] loss: {running_loss / 200:.3f}')\n",
        "      running_loss = 0.0\n",
        "  running_loss_arr.append(count)\n",
        "\n",
        "print('Finished Training')"
      ],
      "metadata": {
        "id": "q7kLkHP88izE"
      },
      "execution_count": null,
      "outputs": []
    },
    {
      "cell_type": "markdown",
      "source": [
        "*resnet architecture implementation*"
      ],
      "metadata": {
        "id": "FwPdtxP3ZZg1"
      }
    },
    {
      "cell_type": "code",
      "source": [
        "from tensorflow.keras.applications.resnet50 import ResNet50\n",
        "from tensorflow.keras.preprocessing import image\n",
        "from tensorflow.keras.applications.resnet50 import preprocess_input, decode_predictions\n",
        "import numpy as np\n",
        "\n",
        "model = ResNet50(weights='imagenet')\n",
        "\n",
        "img_path = '/content/drive/MyDrive/drone_project_data/processed_data/prototype_data/Potato___healthy/5ea316eb-10a2-42c0-b781-40d90356ccaa___RS_HL 1935_final_masked.jpg'\n",
        "img = image.load_img(img_path, target_size=(224, 224))\n",
        "x = image.img_to_array(img)\n",
        "x = np.expand_dims(x, axis=0)\n",
        "x = preprocess_input(x)\n",
        "\n",
        "preds = model.predict(x)\n",
        "# decode the results into a list of tuples (class, description, probability)\n",
        "# (one such list for each sample in the batch)\n",
        "print('Predicted:', decode_predictions(preds, top=3)[0])"
      ],
      "metadata": {
        "colab": {
          "base_uri": "https://localhost:8080/"
        },
        "id": "-Sq_Zm3G8udy",
        "outputId": "88b616a8-fa7d-4fc6-ed06-321a8523e990"
      },
      "execution_count": null,
      "outputs": [
        {
          "output_type": "stream",
          "name": "stdout",
          "text": [
            "1/1 [==============================] - 1s 949ms/step\n",
            "Downloading data from https://storage.googleapis.com/download.tensorflow.org/data/imagenet_class_index.json\n",
            "35363/35363 [==============================] - 0s 0us/step\n",
            "Predicted: [('n12768682', 'buckeye', 0.36075467), ('n03991062', 'pot', 0.13052243), ('n02259212', 'leafhopper', 0.07982557)]\n"
          ]
        }
      ]
    },
    {
      "cell_type": "code",
      "source": [],
      "metadata": {
        "id": "2IGTeh6NZ3zn"
      },
      "execution_count": null,
      "outputs": []
    }
  ]
}